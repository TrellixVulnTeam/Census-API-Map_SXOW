{
 "cells": [
  {
   "cell_type": "code",
   "execution_count": null,
   "metadata": {},
   "outputs": [],
   "source": [
    "##Request the data and convert to a .csv file"
   ]
  },
  {
   "cell_type": "code",
   "execution_count": null,
   "metadata": {},
   "outputs": [],
   "source": [
    "#import the following libraries\n",
    "import requests\n",
    "import csv\n",
    "import pandas as pd"
   ]
  },
  {
   "cell_type": "code",
   "execution_count": null,
   "metadata": {},
   "outputs": [],
   "source": [
    "#use the get() function to request the data from the API\n",
    "#you will need an API key, which you can get through https://www.census.gov/data/developers.html\n",
    "#enter the appropriate URL for the dataset you choose to access\n",
    "#you will need to include the desired variables and geographies\n",
    "#include your API key at the end of the request\n",
    "#more information on formatting and access to datasets and variables can be found on the census developers webpage\n",
    "response = requests.get(\"https://api.census.gov/data/2019/acs/acs1?get=NAME,B19013_001E&for=county:*&in=state:*&key=fdd18dad5454b4090811a9c5e3f45c4dfdeb1b57\")"
   ]
  },
  {
   "cell_type": "code",
   "execution_count": null,
   "metadata": {},
   "outputs": [],
   "source": [
    "#run this to check if everything is running properly\n",
    "#a response starting with 2 means everything is okay, a response starting with 4 means there is an error, and responses\n",
    "#starting with 1 or 3 give information or redirection\n",
    "#here is a good reference guide for all of the possible responses: https://developer.mozilla.org/en-US/docs/Web/HTTP/Status\n",
    "print(response.status_code)"
   ]
  },
  {
   "cell_type": "code",
   "execution_count": null,
   "metadata": {},
   "outputs": [],
   "source": [
    "df = json.loads(response.text)\n",
    "print(df)"
   ]
  },
  {
   "cell_type": "code",
   "execution_count": null,
   "metadata": {
    "scrolled": true
   },
   "outputs": [],
   "source": [
    "pd.DataFrame(df).to_csv(r'C:\\Users\\mitch\\OneDrive\\Documents\\FHWA_Forms\\census_API_jupyter\\Census-API-Map\\income_data.csv')\n",
    "#if you want to remove the index from the csv file, simply add \", index = False\" after the file directory within the parentheses"
   ]
  },
  {
   "cell_type": "code",
   "execution_count": null,
   "metadata": {},
   "outputs": [],
   "source": [
    "##Merge income data with geographic data"
   ]
  },
  {
   "cell_type": "code",
   "execution_count": null,
   "metadata": {},
   "outputs": [],
   "source": []
  }
 ],
 "metadata": {
  "kernelspec": {
   "display_name": "Python 3",
   "language": "python",
   "name": "python3"
  },
  "language_info": {
   "codemirror_mode": {
    "name": "ipython",
    "version": 3
   },
   "file_extension": ".py",
   "mimetype": "text/x-python",
   "name": "python",
   "nbconvert_exporter": "python",
   "pygments_lexer": "ipython3",
   "version": "3.7.6"
  }
 },
 "nbformat": 4,
 "nbformat_minor": 4
}
