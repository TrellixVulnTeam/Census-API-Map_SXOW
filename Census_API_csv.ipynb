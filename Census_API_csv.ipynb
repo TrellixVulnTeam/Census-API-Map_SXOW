{
 "cells": [
  {
   "cell_type": "code",
   "execution_count": null,
   "metadata": {},
   "outputs": [],
   "source": [
    "##Request the data and convert to a csv file"
   ]
  },
  {
   "cell_type": "code",
   "execution_count": null,
   "metadata": {},
   "outputs": [],
   "source": [
    "#import the following libraries\n",
    "import requests\n",
    "import csv\n",
    "import json\n",
    "import pandas as pd\n",
    "import os.path"
   ]
  },
  {
   "cell_type": "code",
   "execution_count": null,
   "metadata": {},
   "outputs": [],
   "source": [
    "#use the get() function to request the data from the API\n",
    "#you will need an API key, which you can get through https://www.census.gov/data/developers.html\n",
    "#more information on formatting and access to datasets and variables can be found on the census developers webpage\n",
    "response = requests.get(\"https://api.census.gov/data/2019/acs/acs5?get=NAME,GEO_ID,B19013_001E&for=block group:*&in=state:51&in=county:*&in=tract:*&key=INSERT_KEY_HERE\")"
   ]
  },
  {
   "cell_type": "code",
   "execution_count": null,
   "metadata": {},
   "outputs": [],
   "source": [
    "#run this to check if everything is running properly\n",
    "#here is a good reference guide for all of the possible responses: https://developer.mozilla.org/en-US/docs/Web/HTTP/Status\n",
    "print(response.status_code)"
   ]
  },
  {
   "cell_type": "code",
   "execution_count": null,
   "metadata": {},
   "outputs": [],
   "source": [
    "#load the data as a json file and print to check if everything looks fine\n",
    "result = json.loads(response.text)\n",
    "print(result)"
   ]
  },
  {
   "cell_type": "code",
   "execution_count": null,
   "metadata": {
    "scrolled": true
   },
   "outputs": [],
   "source": [
    "#use pandas to convert the json into csv files and save into directory\n",
    "if os.path.isfile(r'income_bg_initial.csv'):\n",
    "    print('file already exists')\n",
    "else:\n",
    "    print('saving file to directory')\n",
    "    pd.DataFrame(result).to_csv(r'income_bg_initial.csv')\n",
    "#if you want to remove the index from the csv file, simply add \", index = False\" after the file directory within the parentheses"
   ]
  },
  {
   "cell_type": "code",
   "execution_count": null,
   "metadata": {},
   "outputs": [],
   "source": [
    "df = pd.read_csv(r'income_bg_initial.csv')"
   ]
  },
  {
   "cell_type": "code",
   "execution_count": null,
   "metadata": {
    "scrolled": true
   },
   "outputs": [],
   "source": [
    "#clean the data to how you need it\n",
    "df.head()"
   ]
  },
  {
   "cell_type": "code",
   "execution_count": null,
   "metadata": {},
   "outputs": [],
   "source": [
    "df.columns"
   ]
  },
  {
   "cell_type": "code",
   "execution_count": null,
   "metadata": {},
   "outputs": [],
   "source": [
    "#change column names\n",
    "df.columns = ['index', 'NAME', 'GEO_ID', 'INCOME', 'state', 'county', 'tract', 'block_group']\n",
    "df.head()"
   ]
  },
  {
   "cell_type": "code",
   "execution_count": null,
   "metadata": {},
   "outputs": [],
   "source": [
    "#splitting GEO_ID column to just get the value I need\n",
    "GEO_ID = df['GEO_ID']\n",
    "df[['US_Code', 'GEO_ID']] = GEO_ID.str.split(\"US\", n=1, expand=True)"
   ]
  },
  {
   "cell_type": "code",
   "execution_count": null,
   "metadata": {},
   "outputs": [],
   "source": [
    "#delete new column that I don't need\n",
    "del df['US_Code']\n",
    "df.head()"
   ]
  },
  {
   "cell_type": "code",
   "execution_count": null,
   "metadata": {
    "scrolled": true
   },
   "outputs": [],
   "source": [
    "#drop row with same values as column heads\n",
    "df = df.drop(df.index[0])\n",
    "df"
   ]
  },
  {
   "cell_type": "code",
   "execution_count": null,
   "metadata": {},
   "outputs": [],
   "source": [
    "#remove nulls\n",
    "df = df[df.INCOME != '-666666666']\n",
    "df"
   ]
  },
  {
   "cell_type": "code",
   "execution_count": null,
   "metadata": {},
   "outputs": [],
   "source": [
    "#save final file\n",
    "if os.path.isfile(r'income_bg_final.csv'):\n",
    "    print('file already exists')\n",
    "else:\n",
    "    print('saving file to directory')\n",
    "    pd.DataFrame(df).to_csv(r'income_bg_final.csv')"
   ]
  },
  {
   "cell_type": "code",
   "execution_count": null,
   "metadata": {},
   "outputs": [],
   "source": []
  }
 ],
 "metadata": {
  "kernelspec": {
   "display_name": "Python 3",
   "language": "python",
   "name": "python3"
  },
  "language_info": {
   "codemirror_mode": {
    "name": "ipython",
    "version": 3
   },
   "file_extension": ".py",
   "mimetype": "text/x-python",
   "name": "python",
   "nbconvert_exporter": "python",
   "pygments_lexer": "ipython3",
   "version": "3.7.6"
  }
 },
 "nbformat": 4,
 "nbformat_minor": 4
}
