{
 "cells": [
  {
   "cell_type": "code",
   "execution_count": null,
   "source": [
    "##Request the data and convert to a csv file"
   ],
   "outputs": [],
   "metadata": {}
  },
  {
   "cell_type": "code",
   "execution_count": null,
   "source": [
    "#import the following libraries\r\n",
    "import requests\r\n",
    "import json\r\n",
    "import pandas as pd\r\n",
    "import os\r\n",
    "import os.path"
   ],
   "outputs": [],
   "metadata": {}
  },
  {
   "cell_type": "code",
   "execution_count": null,
   "source": [
    "#you will need an API key, which you can get through https://www.census.gov/data/developers.html\r\n",
    "api_key_input = input('Enter your API key: ')\r\n",
    "census_api_key = api_key_input"
   ],
   "outputs": [],
   "metadata": {}
  },
  {
   "cell_type": "code",
   "execution_count": null,
   "source": [
    "#states dictionary\r\n",
    "\r\n",
    "states = {'AL':'01', 'AK':'02', 'AZ':'04', 'AR':'05', 'CA':'06', 'CO':'08', 'CT':'09', 'DE':'10', 'DC':'11', 'FL':'12', 'GA':'13', 'HI':'15', \r\n",
    "            'ID':'16', 'IL':'17', 'IN':'18', 'IA':'19', 'KS':'20', 'KY':'21', 'LA':'22', 'ME':'23', 'MD':'24', 'MA':'25', 'MI':'26', 'MN':'27', \r\n",
    "            'MS':'28', 'MO':'29', 'MT':'30', 'NE':'31', 'NV':'32', 'NH':'33', 'NJ':'34', 'NM':'35', 'NY':'36', 'NC':'37', 'ND':'38', 'OH':'39', \r\n",
    "            'OK':'40', 'OR':'41', 'PA':'42', 'RI':'44', 'SC':'45', 'SD':'46', 'TN':'47', 'TX':'48', 'UT':'49', 'VT':'50', 'VA':'51', 'WA':'53', \r\n",
    "            'WV':'54', 'WI':'55', 'WY':'56', 'AS':'60', 'GU':'66', 'MP':'69', 'PR':'72', 'VI':'78'}\r\n",
    "            \r\n",
    "while True:\r\n",
    "    state_input = input('Enter a valid two letter abbreviation for the state or territory of your choice: ')\r\n",
    "    if state_input not in states:\r\n",
    "        print('Abbreviation is invalid')\r\n",
    "        continue\r\n",
    "    else:\r\n",
    "        break\r\n",
    "\r\n",
    "\r\n",
    "state_fips = states[state_input]"
   ],
   "outputs": [],
   "metadata": {}
  },
  {
   "cell_type": "code",
   "execution_count": null,
   "source": [
    "#use the get() function to request the data from the API\r\n",
    "#more information on formatting and access to datasets and variables can be found on the census developers webpage\r\n",
    "\r\n",
    "response = requests.get(\"https://api.census.gov/data/2019/acs/acs5?get=NAME,GEO_ID,B19013_001E&for=block group:*&in=state:{}&in=county:*&in=tract:*&key={}\".format(state_fips, census_api_key))"
   ],
   "outputs": [],
   "metadata": {}
  },
  {
   "cell_type": "code",
   "execution_count": null,
   "source": [
    "#run this to check if everything is running properly\r\n",
    "#here is a good reference guide for all of the possible responses: https://developer.mozilla.org/en-US/docs/Web/HTTP/Status\r\n",
    "print(response.status_code)"
   ],
   "outputs": [],
   "metadata": {}
  },
  {
   "cell_type": "code",
   "execution_count": null,
   "source": [
    "#load the data as a json file and print to check if everything looks fine\r\n",
    "result = json.loads(response.text)\r\n",
    "\r\n",
    "#print(result)"
   ],
   "outputs": [],
   "metadata": {}
  },
  {
   "cell_type": "code",
   "execution_count": null,
   "source": [
    "#use pandas to convert the json into csv files and save into directory\r\n",
    "if os.path.isfile(r'income_bg_{}.csv'.format(state_input)):\r\n",
    "    while True:\r\n",
    "        file_save_input = input('File already exists. Would you like to overwrite it?(y/n)')\r\n",
    "        if file_save_input == 'y' or file_save_input == 'Y':\r\n",
    "            print('overwriting file in directory')\r\n",
    "            pd.DataFrame(result).to_csv(r'income_bg_{}.csv'.format(state_input))\r\n",
    "            break\r\n",
    "        elif file_save_input == 'n' or file_save_input == 'N':\r\n",
    "            break\r\n",
    "        else:\r\n",
    "            print('input invalid')\r\n",
    "            continue\r\n",
    "else:\r\n",
    "    print('saving file to directory')\r\n",
    "    pd.DataFrame(result).to_csv(r'income_bg_{}.csv'.format(state_input))\r\n",
    "#if you want to remove the index from the csv file, simply add \", index = False\" after the file directory within the parentheses"
   ],
   "outputs": [],
   "metadata": {
    "scrolled": true
   }
  },
  {
   "cell_type": "code",
   "execution_count": null,
   "source": [
    "df = pd.read_csv(r'income_bg_{}.csv'.format(state_input))"
   ],
   "outputs": [],
   "metadata": {}
  },
  {
   "cell_type": "code",
   "execution_count": null,
   "source": [
    "#clean the data to how you need it\r\n",
    "df.head()"
   ],
   "outputs": [],
   "metadata": {
    "scrolled": true
   }
  },
  {
   "cell_type": "code",
   "execution_count": null,
   "source": [
    "df.columns"
   ],
   "outputs": [],
   "metadata": {}
  },
  {
   "cell_type": "code",
   "execution_count": null,
   "source": [
    "#change column names\r\n",
    "df.columns = ['index', 'NAME', 'GEO_ID', 'INCOME', 'state', 'county', 'tract', 'block_group']\r\n",
    "df.head()"
   ],
   "outputs": [],
   "metadata": {}
  },
  {
   "cell_type": "code",
   "execution_count": null,
   "source": [
    "#splitting GEO_ID column to just get the value I need\r\n",
    "GEO_ID = df['GEO_ID']\r\n",
    "df[['US_Code', 'GEO_ID']] = GEO_ID.str.split(\"US\", n=1, expand=True)"
   ],
   "outputs": [],
   "metadata": {}
  },
  {
   "cell_type": "code",
   "execution_count": null,
   "source": [
    "#delete new column that I don't need\r\n",
    "del df['US_Code']\r\n",
    "df.head()"
   ],
   "outputs": [],
   "metadata": {}
  },
  {
   "cell_type": "code",
   "execution_count": null,
   "source": [
    "#drop row with same values as column heads\r\n",
    "df = df.drop(df.index[0])\r\n",
    "df"
   ],
   "outputs": [],
   "metadata": {
    "scrolled": true
   }
  },
  {
   "cell_type": "code",
   "execution_count": null,
   "source": [
    "#remove nulls\r\n",
    "df = df[df.INCOME != '-666666666']\r\n",
    "df"
   ],
   "outputs": [],
   "metadata": {}
  },
  {
   "cell_type": "code",
   "execution_count": null,
   "source": [
    "#save final copy\r\n",
    "\r\n",
    "while True:\r\n",
    "    save_new = input('Would you like to save a separate copy of your cleaned csv (1), or would you like to overwrite your raw csv (2)? ')\r\n",
    "    if save_new == '1':\r\n",
    "        os.path.isfile(r'income_bg_{}_clean.csv'.format(state_input)) \r\n",
    "        print('saving file to directory')\r\n",
    "        break\r\n",
    "    elif save_new == '2':\r\n",
    "        os.rename('income_bg_{}.csv'.format(state_input), 'income_bg_{}_clean.csv'.format(state_input))\r\n",
    "        pd.DataFrame(df).to_csv(r'income_bg_{}_clean.csv'.format(state_input))\r\n",
    "        print('overwriting old file with new file')\r\n",
    "        break\r\n",
    "    else:\r\n",
    "        print('invalid input')\r\n",
    "        continue"
   ],
   "outputs": [],
   "metadata": {}
  }
 ],
 "metadata": {
  "kernelspec": {
   "name": "python3",
   "display_name": "Python 3.9.5 64-bit ('census_api': venv)"
  },
  "language_info": {
   "codemirror_mode": {
    "name": "ipython",
    "version": 3
   },
   "file_extension": ".py",
   "mimetype": "text/x-python",
   "name": "python",
   "nbconvert_exporter": "python",
   "pygments_lexer": "ipython3",
   "version": "3.9.5"
  },
  "interpreter": {
   "hash": "9072cb81695c2c5055ce1477261858e9137bd561fe569c74a6639796a0d4f65a"
  }
 },
 "nbformat": 4,
 "nbformat_minor": 4
}